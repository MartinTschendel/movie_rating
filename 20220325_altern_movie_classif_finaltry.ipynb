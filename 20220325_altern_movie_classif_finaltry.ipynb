{
 "cells": [
  {
   "cell_type": "markdown",
   "id": "68feaa8b",
   "metadata": {},
   "source": [
    "Assess performance of different classifiers by applying the following metrics:\n",
    "* Confusion Matrix\n",
    "* Accuracy (how many of the predicted results are similar to the test set results)\n",
    "* Precision （measuring exactness; when the model predicts yes, how often is it correct?)\n",
    "* Recall (measuring completeness; when it's actually yes, how often does it predict yes?)\n",
    "* F1 Score (compromise between Precision and Recall)\n",
    "* calculation time\n",
    "\n",
    "--> Save the results within a dataframe and export it to a csv"
   ]
  },
  {
   "cell_type": "code",
   "execution_count": 1,
   "id": "380c4890",
   "metadata": {},
   "outputs": [],
   "source": [
    "#loading the dataset\n",
    "#take the 10000 most frequently occuring words in the dataset\n",
    "from tensorflow.keras.datasets import imdb\n",
    "(train_data, train_labels), (test_data, test_labels) = imdb.load_data(\n",
    "num_words=10000)"
   ]
  },
  {
   "cell_type": "code",
   "execution_count": 2,
   "id": "de317756",
   "metadata": {},
   "outputs": [],
   "source": [
    "#encoding integer sequences with multi-hot-encoding\n",
    "import numpy as np\n",
    "def vectorize_sequences(sequences, dimension=10000):\n",
    "    #set up 0-matrix; it has shape len(sequences) * dimension \n",
    "    #a sequence is one example\n",
    "    results = np.zeros((len(sequences), dimension))\n",
    "    for i, sequence in enumerate(sequences):\n",
    "        for j in sequence:\n",
    "            results[i, j] = 1.\n",
    "    return results\n",
    "x_train = vectorize_sequences(train_data)\n",
    "x_test = vectorize_sequences(test_data)\n"
   ]
  },
  {
   "cell_type": "code",
   "execution_count": 3,
   "id": "d06cab57",
   "metadata": {},
   "outputs": [],
   "source": [
    "#vectorize the labels\n",
    "y_train = np.asarray(train_labels).astype(\"float32\")\n",
    "y_test = np.asarray(test_labels).astype(\"float32\")"
   ]
  },
  {
   "cell_type": "code",
   "execution_count": 4,
   "id": "0d29f557",
   "metadata": {},
   "outputs": [],
   "source": [
    "#prepare validation set\n",
    "x_val = x_train[:10000]\n",
    "partial_x_train = x_train[10000:]\n",
    "y_val = y_train[:10000]\n",
    "partial_y_train = y_train[10000:]\n"
   ]
  },
  {
   "cell_type": "code",
   "execution_count": null,
   "id": "d72f89e0",
   "metadata": {},
   "outputs": [],
   "source": []
  },
  {
   "cell_type": "code",
   "execution_count": 5,
   "id": "7d86f9e3",
   "metadata": {},
   "outputs": [],
   "source": [
    "from sklearn.metrics import confusion_matrix, accuracy_score\n",
    "\n",
    "def model_performance(y_pred):\n",
    "    value_list = []\n",
    "    cm = confusion_matrix(y_test, y_pred)\n",
    "    TN = cm[0][0]\n",
    "    value_list.append(cm[0][0])\n",
    "    TP = cm[1][1]\n",
    "    value_list.append(cm[1][1])\n",
    "    FP = cm[0][1]\n",
    "    value_list.append(cm[0][1])\n",
    "    FN = cm[1][0]\n",
    "    value_list.append(cm[1][0])\n",
    "    Accuracy = (TP + TN) / (TP + TN + FP + FN)\n",
    "    value_list.append(Accuracy)\n",
    "    Precision = TP / (TP + FP)\n",
    "    value_list.append(round(Precision, 3))\n",
    "    Recall = TP / (TP + FN)\n",
    "    value_list.append(round(Recall, 3))\n",
    "    F1 = 2 * Precision * Recall / (Precision + Recall)\n",
    "    value_list.append(round(F1, 3))\n",
    "    value_list.append(round(used_time, 3))\n",
    "    return print((cm),'\\n'\n",
    "    'True Negatives:', cm[0][0],'\\n'\n",
    "    'True Positives:', cm[1][1],'\\n'\n",
    "    'False Positives:', cm[0][1],'\\n'\n",
    "    'False Negatives:', cm[1][0],'\\n'\n",
    "    'Accurary:', Accuracy,'\\n'\n",
    "    'Precision:', round(Precision, 3),'\\n'\n",
    "    'Recall:', round(Recall, 3),'\\n'\n",
    "    'F1 Score:', round(F1, 3),'\\n' \n",
    "    'used time:', round(used_time, 3)), value_list"
   ]
  },
  {
   "cell_type": "code",
   "execution_count": 6,
   "id": "d729aa91",
   "metadata": {},
   "outputs": [
    {
     "name": "stdout",
     "output_type": "stream",
     "text": [
      "[[10832  1668]\n",
      " [ 5921  6579]] \n",
      "True Negatives: 10832 \n",
      "True Positives: 6579 \n",
      "False Positives: 1668 \n",
      "False Negatives: 5921 \n",
      "Accurary: 0.69644 \n",
      "Precision: 0.798 \n",
      "Recall: 0.526 \n",
      "F1 Score: 0.634 \n",
      "used time: 68.975\n"
     ]
    },
    {
     "data": {
      "text/plain": [
       "[10832, 6579, 1668, 5921, 0.69644, 0.798, 0.526, 0.634, 68.975]"
      ]
     },
     "execution_count": 6,
     "metadata": {},
     "output_type": "execute_result"
    }
   ],
   "source": [
    "import time\n",
    "start_time = time.time()\n",
    "\n",
    "#Naive Bayes Classifier\n",
    "from sklearn.naive_bayes import GaussianNB\n",
    "classifier = GaussianNB()\n",
    "classifier.fit(x_train, y_train)\n",
    "y_pred = classifier.predict(x_test)\n",
    "used_time = time.time() - start_time\n",
    "\n",
    "list_nb = model_performance(y_pred)[1]\n",
    "list_nb"
   ]
  },
  {
   "cell_type": "code",
   "execution_count": 7,
   "id": "34516d6f",
   "metadata": {},
   "outputs": [
    {
     "name": "stdout",
     "output_type": "stream",
     "text": [
      "Epoch 1/20\n",
      "49/49 [==============================] - 21s 373ms/step - loss: 0.4507 - accuracy: 0.8244 - val_loss: 0.3366 - val_accuracy: 0.8813\n",
      "Epoch 2/20\n",
      "49/49 [==============================] - 3s 56ms/step - loss: 0.2601 - accuracy: 0.9097 - val_loss: 0.3041 - val_accuracy: 0.8788\n",
      "Epoch 3/20\n",
      "49/49 [==============================] - 2s 36ms/step - loss: 0.1994 - accuracy: 0.9295 - val_loss: 0.2834 - val_accuracy: 0.8883\n",
      "Epoch 4/20\n",
      "49/49 [==============================] - 2s 31ms/step - loss: 0.1666 - accuracy: 0.9406 - val_loss: 0.2951 - val_accuracy: 0.8834\n",
      "Epoch 5/20\n",
      "49/49 [==============================] - 2s 31ms/step - loss: 0.1461 - accuracy: 0.9490 - val_loss: 0.3129 - val_accuracy: 0.8793\n",
      "Epoch 6/20\n",
      "49/49 [==============================] - 1s 31ms/step - loss: 0.1249 - accuracy: 0.9568 - val_loss: 0.3626 - val_accuracy: 0.8674\n",
      "Epoch 7/20\n",
      "49/49 [==============================] - 1s 30ms/step - loss: 0.1118 - accuracy: 0.9614 - val_loss: 0.3588 - val_accuracy: 0.8725\n",
      "Epoch 8/20\n",
      "49/49 [==============================] - 1s 29ms/step - loss: 0.0999 - accuracy: 0.9660 - val_loss: 0.4132 - val_accuracy: 0.8607\n",
      "Epoch 9/20\n",
      "49/49 [==============================] - 1s 29ms/step - loss: 0.0892 - accuracy: 0.9707 - val_loss: 0.4112 - val_accuracy: 0.8682\n",
      "Epoch 10/20\n",
      "49/49 [==============================] - 1s 28ms/step - loss: 0.0806 - accuracy: 0.9726 - val_loss: 0.4397 - val_accuracy: 0.8647\n",
      "Epoch 11/20\n",
      "49/49 [==============================] - 1s 30ms/step - loss: 0.0686 - accuracy: 0.9782 - val_loss: 0.4748 - val_accuracy: 0.8601\n",
      "Epoch 12/20\n",
      "49/49 [==============================] - 1s 30ms/step - loss: 0.0621 - accuracy: 0.9803 - val_loss: 0.5591 - val_accuracy: 0.8471\n",
      "Epoch 13/20\n",
      "49/49 [==============================] - 1s 31ms/step - loss: 0.0550 - accuracy: 0.9828 - val_loss: 0.5688 - val_accuracy: 0.8542\n",
      "Epoch 14/20\n",
      "49/49 [==============================] - 1s 30ms/step - loss: 0.0493 - accuracy: 0.9851 - val_loss: 0.5665 - val_accuracy: 0.8563\n",
      "Epoch 15/20\n",
      "49/49 [==============================] - 1s 29ms/step - loss: 0.0419 - accuracy: 0.9878 - val_loss: 0.6512 - val_accuracy: 0.8457\n",
      "Epoch 16/20\n",
      "49/49 [==============================] - 1s 30ms/step - loss: 0.0377 - accuracy: 0.9892 - val_loss: 0.6422 - val_accuracy: 0.8537\n",
      "Epoch 17/20\n",
      "49/49 [==============================] - 1s 29ms/step - loss: 0.0337 - accuracy: 0.9899 - val_loss: 0.6743 - val_accuracy: 0.8519\n",
      "Epoch 18/20\n",
      "49/49 [==============================] - 1s 30ms/step - loss: 0.0282 - accuracy: 0.9924 - val_loss: 0.7086 - val_accuracy: 0.8498\n",
      "Epoch 19/20\n",
      "49/49 [==============================] - 2s 31ms/step - loss: 0.0240 - accuracy: 0.9935 - val_loss: 0.7451 - val_accuracy: 0.8495\n",
      "Epoch 20/20\n",
      "49/49 [==============================] - 1s 29ms/step - loss: 0.0211 - accuracy: 0.9948 - val_loss: 0.7918 - val_accuracy: 0.8503\n"
     ]
    }
   ],
   "source": [
    "import time\n",
    "start_time = time.time()\n",
    "\n",
    "from tensorflow import keras\n",
    "from tensorflow.keras import layers\n",
    "\n",
    "model = keras.Sequential([\n",
    "    layers.Dense(16, activation=\"relu\"),\n",
    "    layers.Dense(16, activation=\"relu\"),\n",
    "    layers.Dense(1, activation=\"sigmoid\"),\n",
    "])\n",
    "\n",
    "model.compile(optimizer='rmsprop',\n",
    "             loss='binary_crossentropy',\n",
    "             metrics='accuracy')\n",
    "\n",
    "history = model.fit(x_train,\n",
    "                    y_train,\n",
    "                    #20 iterations over all samples in train. data \n",
    "                   epochs=20,\n",
    "                    #512 samples per epoch\n",
    "                   batch_size=512,\n",
    "                    #monitor loss & accur. of model with val. data\n",
    "                   validation_data=(x_test, y_test))\n",
    "\n",
    "y_pred_deeplearning = model.predict(x_test)\n",
    "\n",
    "used_time = time.time() - start_time"
   ]
  },
  {
   "cell_type": "code",
   "execution_count": 8,
   "id": "1011d86b",
   "metadata": {},
   "outputs": [],
   "source": [
    "y_pred_deeplearning_0_1 = []\n",
    "for i in y_pred_deeplearning:\n",
    "    if i > 0.5:\n",
    "        i = 1\n",
    "    else:\n",
    "        i = 0\n",
    "    y_pred_deeplearning_0_1.append(i)\n",
    "    i += 1"
   ]
  },
  {
   "cell_type": "code",
   "execution_count": 9,
   "id": "73aa81b0",
   "metadata": {},
   "outputs": [
    {
     "name": "stdout",
     "output_type": "stream",
     "text": [
      "[[10809  1691]\n",
      " [ 2052 10448]] \n",
      "True Negatives: 10809 \n",
      "True Positives: 10448 \n",
      "False Positives: 1691 \n",
      "False Negatives: 2052 \n",
      "Accurary: 0.85028 \n",
      "Precision: 0.861 \n",
      "Recall: 0.836 \n",
      "F1 Score: 0.848 \n",
      "used time: 76.541\n"
     ]
    },
    {
     "data": {
      "text/plain": [
       "[10809, 10448, 1691, 2052, 0.85028, 0.861, 0.836, 0.848, 76.541]"
      ]
     },
     "execution_count": 9,
     "metadata": {},
     "output_type": "execute_result"
    }
   ],
   "source": [
    "list_deeplearning = model_performance(y_pred_deeplearning_0_1)[1]\n",
    "list_deeplearning"
   ]
  },
  {
   "cell_type": "code",
   "execution_count": 10,
   "id": "2ed0240b",
   "metadata": {},
   "outputs": [
    {
     "name": "stdout",
     "output_type": "stream",
     "text": [
      "[[10483  2017]\n",
      " [ 2395 10105]] \n",
      "True Negatives: 10483 \n",
      "True Positives: 10105 \n",
      "False Positives: 2017 \n",
      "False Negatives: 2395 \n",
      "Accurary: 0.82352 \n",
      "Precision: 0.834 \n",
      "Recall: 0.808 \n",
      "F1 Score: 0.821 \n",
      "used time: 99.018\n"
     ]
    },
    {
     "data": {
      "text/plain": [
       "[10483, 10105, 2017, 2395, 0.82352, 0.834, 0.808, 0.821, 99.018]"
      ]
     },
     "execution_count": 10,
     "metadata": {},
     "output_type": "execute_result"
    }
   ],
   "source": [
    "import time\n",
    "start_time = time.time()\n",
    "\n",
    "#Random Forest Classifier\n",
    "from sklearn.ensemble import RandomForestClassifier\n",
    "class_rf = RandomForestClassifier(n_estimators = 30, criterion = 'entropy', random_state = 0)\n",
    "class_rf.fit(x_train, y_train)\n",
    "y_pred_rf = class_rf.predict(x_test)\n",
    "\n",
    "used_time = time.time() - start_time\n",
    "\n",
    "list_rf = model_performance(y_pred_rf)[1]\n",
    "list_rf"
   ]
  },
  {
   "cell_type": "code",
   "execution_count": 11,
   "id": "39ce1059",
   "metadata": {},
   "outputs": [
    {
     "name": "stdout",
     "output_type": "stream",
     "text": [
      "[[8939 3561]\n",
      " [3550 8950]] \n",
      "True Negatives: 8939 \n",
      "True Positives: 8950 \n",
      "False Positives: 3561 \n",
      "False Negatives: 3550 \n",
      "Accurary: 0.71556 \n",
      "Precision: 0.715 \n",
      "Recall: 0.716 \n",
      "F1 Score: 0.716 \n",
      "used time: 243.844\n"
     ]
    },
    {
     "data": {
      "text/plain": [
       "[8939, 8950, 3561, 3550, 0.71556, 0.715, 0.716, 0.716, 243.844]"
      ]
     },
     "execution_count": 11,
     "metadata": {},
     "output_type": "execute_result"
    }
   ],
   "source": [
    "#Decision Tree Classifier\n",
    "start_time = time.time()\n",
    "from sklearn.tree import DecisionTreeClassifier\n",
    "class_tree = DecisionTreeClassifier(criterion = 'entropy', random_state=0)\n",
    "class_tree.fit(x_train, y_train)\n",
    "y_pred = class_tree.predict(x_test)\n",
    "used_time = time.time() - start_time\n",
    "list_tree = model_performance(y_pred)[1]\n",
    "list_tree"
   ]
  },
  {
   "cell_type": "code",
   "execution_count": 12,
   "id": "46e89477",
   "metadata": {},
   "outputs": [
    {
     "name": "stdout",
     "output_type": "stream",
     "text": [
      "[[7520 4980]\n",
      " [3820 8680]] \n",
      "True Negatives: 7520 \n",
      "True Positives: 8680 \n",
      "False Positives: 4980 \n",
      "False Negatives: 3820 \n",
      "Accurary: 0.648 \n",
      "Precision: 0.635 \n",
      "Recall: 0.694 \n",
      "F1 Score: 0.664 \n",
      "used time: 269.229\n"
     ]
    },
    {
     "data": {
      "text/plain": [
       "[7520, 8680, 4980, 3820, 0.648, 0.635, 0.694, 0.664, 269.229]"
      ]
     },
     "execution_count": 12,
     "metadata": {},
     "output_type": "execute_result"
    }
   ],
   "source": [
    "start_time = time.time()\n",
    "from sklearn.neighbors import KNeighborsClassifier\n",
    "class_knn = KNeighborsClassifier(n_neighbors = 10, metric = 'minkowski', p = 2)\n",
    "class_knn.fit(x_train, y_train)\n",
    "y_pred = class_knn.predict(x_test)\n",
    "used_time = time.time() - start_time\n",
    "list_knn = model_performance(y_pred)[1]\n",
    "list_knn"
   ]
  },
  {
   "cell_type": "code",
   "execution_count": 13,
   "id": "c2d3d9d3",
   "metadata": {},
   "outputs": [
    {
     "data": {
      "text/html": [
       "<div>\n",
       "<style scoped>\n",
       "    .dataframe tbody tr th:only-of-type {\n",
       "        vertical-align: middle;\n",
       "    }\n",
       "\n",
       "    .dataframe tbody tr th {\n",
       "        vertical-align: top;\n",
       "    }\n",
       "\n",
       "    .dataframe thead th {\n",
       "        text-align: right;\n",
       "    }\n",
       "</style>\n",
       "<table border=\"1\" class=\"dataframe\">\n",
       "  <thead>\n",
       "    <tr style=\"text-align: right;\">\n",
       "      <th></th>\n",
       "      <th>Naive Bayes</th>\n",
       "      <th>Deep Learning</th>\n",
       "      <th>Random Forest</th>\n",
       "      <th>Decision Tree</th>\n",
       "      <th>KNN</th>\n",
       "    </tr>\n",
       "  </thead>\n",
       "  <tbody>\n",
       "    <tr>\n",
       "      <th>True Neg</th>\n",
       "      <td>10832.00000</td>\n",
       "      <td>10809.00000</td>\n",
       "      <td>10483.00000</td>\n",
       "      <td>8939.00000</td>\n",
       "      <td>7520.000</td>\n",
       "    </tr>\n",
       "    <tr>\n",
       "      <th>True Pos</th>\n",
       "      <td>6579.00000</td>\n",
       "      <td>10448.00000</td>\n",
       "      <td>10105.00000</td>\n",
       "      <td>8950.00000</td>\n",
       "      <td>8680.000</td>\n",
       "    </tr>\n",
       "    <tr>\n",
       "      <th>False Pos</th>\n",
       "      <td>1668.00000</td>\n",
       "      <td>1691.00000</td>\n",
       "      <td>2017.00000</td>\n",
       "      <td>3561.00000</td>\n",
       "      <td>4980.000</td>\n",
       "    </tr>\n",
       "    <tr>\n",
       "      <th>False Neg</th>\n",
       "      <td>5921.00000</td>\n",
       "      <td>2052.00000</td>\n",
       "      <td>2395.00000</td>\n",
       "      <td>3550.00000</td>\n",
       "      <td>3820.000</td>\n",
       "    </tr>\n",
       "    <tr>\n",
       "      <th>Accuracy</th>\n",
       "      <td>0.69644</td>\n",
       "      <td>0.85028</td>\n",
       "      <td>0.82352</td>\n",
       "      <td>0.71556</td>\n",
       "      <td>0.648</td>\n",
       "    </tr>\n",
       "    <tr>\n",
       "      <th>Precision</th>\n",
       "      <td>0.79800</td>\n",
       "      <td>0.86100</td>\n",
       "      <td>0.83400</td>\n",
       "      <td>0.71500</td>\n",
       "      <td>0.635</td>\n",
       "    </tr>\n",
       "    <tr>\n",
       "      <th>Recall</th>\n",
       "      <td>0.52600</td>\n",
       "      <td>0.83600</td>\n",
       "      <td>0.80800</td>\n",
       "      <td>0.71600</td>\n",
       "      <td>0.694</td>\n",
       "    </tr>\n",
       "    <tr>\n",
       "      <th>F1 Score</th>\n",
       "      <td>0.63400</td>\n",
       "      <td>0.84800</td>\n",
       "      <td>0.82100</td>\n",
       "      <td>0.71600</td>\n",
       "      <td>0.664</td>\n",
       "    </tr>\n",
       "    <tr>\n",
       "      <th>used_time</th>\n",
       "      <td>68.97500</td>\n",
       "      <td>76.54100</td>\n",
       "      <td>99.01800</td>\n",
       "      <td>243.84400</td>\n",
       "      <td>269.229</td>\n",
       "    </tr>\n",
       "  </tbody>\n",
       "</table>\n",
       "</div>"
      ],
      "text/plain": [
       "           Naive Bayes  Deep Learning  Random Forest  Decision Tree       KNN\n",
       "True Neg   10832.00000    10809.00000    10483.00000     8939.00000  7520.000\n",
       "True Pos    6579.00000    10448.00000    10105.00000     8950.00000  8680.000\n",
       "False Pos   1668.00000     1691.00000     2017.00000     3561.00000  4980.000\n",
       "False Neg   5921.00000     2052.00000     2395.00000     3550.00000  3820.000\n",
       "Accuracy       0.69644        0.85028        0.82352        0.71556     0.648\n",
       "Precision      0.79800        0.86100        0.83400        0.71500     0.635\n",
       "Recall         0.52600        0.83600        0.80800        0.71600     0.694\n",
       "F1 Score       0.63400        0.84800        0.82100        0.71600     0.664\n",
       "used_time     68.97500       76.54100       99.01800      243.84400   269.229"
      ]
     },
     "execution_count": 13,
     "metadata": {},
     "output_type": "execute_result"
    }
   ],
   "source": [
    "import pandas as pd\n",
    "df = pd.DataFrame(zip(list_nb, list_deeplearning, list_rf, list_tree, list_knn), index = ['True Neg', 'True Pos', 'False Pos',\n",
    "                                    'False Neg', 'Accuracy', 'Precision',\n",
    "                                    'Recall', 'F1 Score', 'used_time'], columns = ['Naive Bayes', 'Deep Learning',\n",
    "                                                                                  'Random Forest', 'Decision Tree', 'KNN'])\n",
    "df"
   ]
  },
  {
   "cell_type": "code",
   "execution_count": 14,
   "id": "47d42d3a",
   "metadata": {},
   "outputs": [],
   "source": [
    "df.to_csv('20220330_model_selection.csv', index=True, header=True)"
   ]
  },
  {
   "cell_type": "code",
   "execution_count": null,
   "id": "655e576e",
   "metadata": {},
   "outputs": [],
   "source": []
  }
 ],
 "metadata": {
  "kernelspec": {
   "display_name": "Python 3 (ipykernel)",
   "language": "python",
   "name": "python3"
  },
  "language_info": {
   "codemirror_mode": {
    "name": "ipython",
    "version": 3
   },
   "file_extension": ".py",
   "mimetype": "text/x-python",
   "name": "python",
   "nbconvert_exporter": "python",
   "pygments_lexer": "ipython3",
   "version": "3.8.5"
  }
 },
 "nbformat": 4,
 "nbformat_minor": 5
}
